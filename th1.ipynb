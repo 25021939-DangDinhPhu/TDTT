{
 "cells": [
  {
   "cell_type": "code",
   "execution_count": 1,
   "id": "21843df5",
   "metadata": {},
   "outputs": [
    {
     "name": "stdout",
     "output_type": "stream",
     "text": [
      "hello word!\n"
     ]
    }
   ],
   "source": [
    "print('hello word!')\n"
   ]
  },
  {
   "cell_type": "code",
   "execution_count": null,
   "id": "e33510ec",
   "metadata": {},
   "outputs": [],
   "source": [
    "name=input('tên bạn là')\n",
    "print('hello',name)"
   ]
  },
  {
   "cell_type": "code",
   "execution_count": null,
   "id": "c861a5ef",
   "metadata": {},
   "outputs": [],
   "source": [
    "a=int(input('a='))\n",
    "b=int(input('b='))\n",
    "print(a+b)\n",
    "print(a-b)\n",
    "print(a*b)\n",
    "print(a//b)\n",
    "print(a%b)\n",
    "print(f\"{a/b:.2f}\")"
   ]
  },
  {
   "cell_type": "code",
   "execution_count": null,
   "id": "9660c488",
   "metadata": {},
   "outputs": [],
   "source": [
    "a1,b1,c1,a2,b2,a3=map(int,input('nhập các số ').split())\n",
    "tb=((a1+b1+c1)+(a2+b2)*2+a3*3)/10\n",
    "print('điểm trung bình là :',f\"{tb:.1f}\")"
   ]
  },
  {
   "cell_type": "code",
   "execution_count": null,
   "id": "6b751527",
   "metadata": {},
   "outputs": [],
   "source": [
    "a,b=map(int,input('nhập hai số a và b').split())\n",
    "print('a mũ b=',a**b)"
   ]
  },
  {
   "cell_type": "code",
   "execution_count": null,
   "id": "12ce38b6",
   "metadata": {},
   "outputs": [],
   "source": [
    "chucai=input()\n",
    "print('mã unicode là ',ord(chucai))\n",
    "print('viết hoa',chucai.upper())"
   ]
  },
  {
   "cell_type": "code",
   "execution_count": null,
   "id": "5dad74d2",
   "metadata": {},
   "outputs": [],
   "source": [
    "A = ((13 ** 2) * 3) + 5\n",
    "B = 13**2*3 + 5\n",
    "\n",
    "print('A=',A)\n",
    "print('B=',B)"
   ]
  },
  {
   "cell_type": "code",
   "execution_count": null,
   "id": "b28d88ad",
   "metadata": {},
   "outputs": [],
   "source": [
    "doC=float(input('nhập độ C'))\n",
    "doF= 9/5*doC + 32\n",
    "print('độ F là =',f\"{doF:.2f}\")"
   ]
  },
  {
   "cell_type": "code",
   "execution_count": null,
   "id": "91227664",
   "metadata": {},
   "outputs": [],
   "source": [
    "x=int(input('nhập giá đồng hồ'))\n",
    "total=x+10+x*0.4\n",
    "print('số tiền phải trả là',f'{total:.2f}')"
   ]
  },
  {
   "cell_type": "code",
   "execution_count": null,
   "id": "ea80be4c",
   "metadata": {},
   "outputs": [],
   "source": [
    "x,y,z=input('tiên các bạn lần lượt là').split()\n",
    "print('hi',z,',',y,'and',x)"
   ]
  },
  {
   "cell_type": "code",
   "execution_count": null,
   "id": "75927ae3",
   "metadata": {},
   "outputs": [],
   "source": [
    "h=int(input('số giờ là'))\n",
    "m=int(input('số giây là'))\n",
    "s=3600*h+60*m\n",
    "print('số giây là ',s)\n"
   ]
  },
  {
   "cell_type": "code",
   "execution_count": null,
   "id": "a51f9591",
   "metadata": {},
   "outputs": [],
   "source": [
    "n=int(input('độ dài cạnh rubik là'))\n",
    "a=(n**2)*6\n",
    "print('tổng số miếng dán kaf : ',a)\n"
   ]
  },
  {
   "cell_type": "code",
   "execution_count": null,
   "id": "66f9459c",
   "metadata": {},
   "outputs": [],
   "source": [
    "a,b = map(int,input(' Nhập hai số nguyên dương: ').split())\n",
    "if a<=0 or b<=0 :\n",
    "    a,b = map(int,input(' hãy nhập đúng hai số nguyên dương: ').split())\n",
    "    print('chữ số hàng đơn vị của tích hai số là tích hai số là',(a*b)%10)\n",
    "else :\n",
    "    print('chữ số hàng dơn vị của tích hai số là',(a*b)%10)"
   ]
  },
  {
   "cell_type": "code",
   "execution_count": null,
   "id": "c83c607e",
   "metadata": {},
   "outputs": [],
   "source": [
    "a=float(input('nhập số a'))\n",
    "b=float(input('nhập số b'))\n",
    "print('số a trước khi đổi',a)\n",
    "print('số b trước khi đổi ',b)\n",
    "a,b=b,a\n",
    "print('số a sau khi đổi',a)\n",
    "print('số b sau khi đổi ',b)        \n",
    "        \n"
   ]
  },
  {
   "cell_type": "code",
   "execution_count": null,
   "id": "2a4041e2",
   "metadata": {},
   "outputs": [],
   "source": [
    "def nhap_so_nguyen_duong():\n",
    "    while True:\n",
    "        try:\n",
    "            n=int(input(\"Nhap so nguyen duong: \"))\n",
    "            if n>0:\n",
    "                return n\n",
    "            else: print(\"Vui long nhap so lon hon 0: \")\n",
    "        except ValueError: print(\"Dau vao khong hop le, vui long nhap so nguyen\")\n",
    "n=nhap_so_nguyen_duong()\n",
    "print(\"số sao thứ n là : \",1+6*n*(n-1))\n"
   ]
  },
  {
   "cell_type": "code",
   "execution_count": null,
   "id": "4f7a1935",
   "metadata": {},
   "outputs": [],
   "source": [
    "print(\"Spring\\nSummer\\nAutumn\\nWinter\")"
   ]
  },
  {
   "cell_type": "code",
   "execution_count": null,
   "id": "ec95e0c1",
   "metadata": {},
   "outputs": [],
   "source": [
    "print('''*''')\n",
    "print('''***''')\n",
    "print('''*****''')\n"
   ]
  },
  {
   "cell_type": "code",
   "execution_count": 1,
   "id": "f4c0306a",
   "metadata": {},
   "outputs": [
    {
     "name": "stdout",
     "output_type": "stream",
     "text": [
      "### ##  ### ### \n",
      " #  # #  #   #\n",
      " #  # #  #   #\n",
      " #  # #  #   #\n",
      " #  ##   #   #\n"
     ]
    }
   ],
   "source": [
    "print('''### ##  ### ### ''')\n",
    "print(''' #  # #  #   #''')\n",
    "print(''' #  # #  #   #''')\n",
    "print(''' #  # #  #   #''')\n",
    "print(''' #  ##   #   #''') \n"
   ]
  },
  {
   "cell_type": "code",
   "execution_count": null,
   "id": "a8202804",
   "metadata": {},
   "outputs": [],
   "source": [
    "print('Monday\\nTuesday\\nWednesday\\nThursday\\nFriday\\nSaturday\\nSunday')"
   ]
  },
  {
   "cell_type": "code",
   "execution_count": null,
   "id": "b3b6e476",
   "metadata": {},
   "outputs": [],
   "source": [
    "print('January\\nFebruary\\nMarch\\nApril\\nMay\\nJune\\nJuly\\nAugust\\nSeptember\\nOctober\\nNovember\\nDecember')"
   ]
  },
  {
   "cell_type": "code",
   "execution_count": null,
   "id": "6c95f362",
   "metadata": {},
   "outputs": [],
   "source": [
    "for i in range(10) :\n",
    "    print('hello world!!')"
   ]
  }
 ],
 "metadata": {
  "kernelspec": {
   "display_name": "Python 3",
   "language": "python",
   "name": "python3"
  },
  "language_info": {
   "codemirror_mode": {
    "name": "ipython",
    "version": 3
   },
   "file_extension": ".py",
   "mimetype": "text/x-python",
   "name": "python",
   "nbconvert_exporter": "python",
   "pygments_lexer": "ipython3",
   "version": "3.13.7"
  }
 },
 "nbformat": 4,
 "nbformat_minor": 5
}
