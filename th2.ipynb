{
 "cells": [
  {
   "cell_type": "code",
   "execution_count": null,
   "id": "b135447c",
   "metadata": {},
   "outputs": [],
   "source": [
    "#b1\n",
    "n = int(input(\"Nhập một số: \"))\n",
    "print(n * 2)\n"
   ]
  },
  {
   "cell_type": "code",
   "execution_count": null,
   "id": "b00318c6",
   "metadata": {},
   "outputs": [
    {
     "name": "stdout",
     "output_type": "stream",
     "text": [
      "điện tích còn lại là : 17.5\n"
     ]
    }
   ],
   "source": [
    "#b2\n",
    "a=float(input('nhập chiều dài khu đất a:'))\n",
    "b=float(input('nhập chiều rộng khu đất b :'))\n",
    "Sht=((b/2)**2)*3.14\n",
    "print('điện tích còn lại là :',round(a*b-Sht,1))7\n"
   ]
  },
  {
   "cell_type": "code",
   "execution_count": 5,
   "id": "d9ff10ad",
   "metadata": {},
   "outputs": [
    {
     "name": "stdout",
     "output_type": "stream",
     "text": [
      "c\n"
     ]
    }
   ],
   "source": [
    "#b3\n",
    "kitu=input('nhập một ký tự bất kì')\n",
    "if kitu==kitu.upper():\n",
    "    print(kitu.lower())\n",
    "else:\n",
    "    print(kitu.upper())"
   ]
  },
  {
   "cell_type": "code",
   "execution_count": 1,
   "id": "db6cedaf",
   "metadata": {},
   "outputs": [
    {
     "name": "stdout",
     "output_type": "stream",
     "text": [
      ". là kí tự aphabet\n"
     ]
    }
   ],
   "source": [
    "#b4\n",
    "kitu=input('nhập một kí tự bất kì')\n",
    "if len(kitu)==1:\n",
    "    print(kitu+' là kí tự aphabet')\n",
    "else:\n",
    "    print(kitu+' không là kí tự alphabet')"
   ]
  },
  {
   "cell_type": "code",
   "execution_count": 14,
   "id": "d51bbd01",
   "metadata": {},
   "outputs": [
    {
     "name": "stdout",
     "output_type": "stream",
     "text": [
      "a\n"
     ]
    }
   ],
   "source": [
    "#b5\n",
    "kitu=input('nhập một kí tự hoa')\n",
    "if kitu=='A':\n",
    "    print('không có chứ cái liền trước chữ cái a thường')\n",
    "else:\n",
    "    print(chr(ord(kitu)+31))"
   ]
  },
  {
   "cell_type": "code",
   "execution_count": 16,
   "id": "c933fbc1",
   "metadata": {},
   "outputs": [
    {
     "name": "stdout",
     "output_type": "stream",
     "text": [
      "3.2\n"
     ]
    }
   ],
   "source": [
    "a=int(input('nhập cạnh a : '))\n",
    "b=int(input('nhập cạnh b : '))\n",
    "c=int(input('nhập cạnh c : '))\n",
    "if a+b>c and a+c>b and b+c>a:\n",
    "    p=(a+b+b)/2\n",
    "    S_tamgiac=(p*(p-a)*(p-b)*(p-c))**0.5\n",
    "    print(round(S_tamgiac,1))\n",
    "else:\n",
    "    print('đây không phải ba cạnh của một tam giác')"
   ]
  },
  {
   "cell_type": "code",
   "execution_count": 17,
   "id": "f20b168a",
   "metadata": {},
   "outputs": [
    {
     "name": "stdout",
     "output_type": "stream",
     "text": [
      "ks\n"
     ]
    }
   ],
   "source": [
    "#b7\n",
    "chuoikitu=(input('nhập một chuỗi các kí tự '))\n",
    "if len(chuoikitu)<20:\n",
    "    print('nhập lại chuỗi có tối thiểu 20 kí tự')\n",
    "else:\n",
    "    print(chuoikitu[5]+chuoikitu[9])"
   ]
  },
  {
   "cell_type": "code",
   "execution_count": 22,
   "id": "9e7dda44",
   "metadata": {},
   "outputs": [
    {
     "name": "stdout",
     "output_type": "stream",
     "text": [
      "họ và tên : phu\n",
      "số tiền điện phải trả là  430780 đồng\n"
     ]
    }
   ],
   "source": [
    "#b8\n",
    "chuho=input('nhập tên chủ hộ')\n",
    "sodien1=int(input('nhập số điện tháng trước'))\n",
    "sodien2=int(input('nhập số điện tháng này'))\n",
    "a=sodien2-sodien1\n",
    "print('họ và tên : '+chuho)\n",
    "if a<=50:\n",
    "    print('số tiền điện phải trả là ',a*1984,'đồng')\n",
    "elif a<=100:\n",
    "    print('số tiền điện phải trả là ',a*2050,'đồng')\n",
    "elif a<=200:\n",
    "    print('số tiền điện phải trả là ',a*2380,'đồng')\n",
    "elif a<=300:\n",
    "    print('số tiền điện phải trả là ',a*2998,'đồng')\n",
    "elif a<=400:\n",
    "    print('số tiền điện phải trả là ',a*3350,'đồng')\n",
    "else:\n",
    "    print('số tiền điện phải trả là ',a*3460,'đồng')\n"
   ]
  },
  {
   "cell_type": "code",
   "execution_count": null,
   "id": "e3295d79",
   "metadata": {},
   "outputs": [
    {
     "name": "stdout",
     "output_type": "stream",
     "text": [
      "2là số chẵn\n"
     ]
    }
   ],
   "source": [
    "#b1\n",
    "n=int(input('nhập một số nguyên n : '))\n",
    "if n%2==0:\n",
    "    print(str(n)+\" là số chẵn\")\n",
    "else:\n",
    "    print(str(n)+' là số lẻ')"
   ]
  },
  {
   "cell_type": "code",
   "execution_count": null,
   "id": "e6158264",
   "metadata": {},
   "outputs": [
    {
     "name": "stdout",
     "output_type": "stream",
     "text": [
      " có chữ số tận cùng là số 5\n"
     ]
    }
   ],
   "source": [
    "#b2\n",
    "n=int(input('nhập một số nguyên n : '))\n",
    "if n%5==0 and n%10!=0:\n",
    "    print(' có chữ số tận cùng là số 5')\n",
    "else :\n",
    "    print('không chữ số tận cùng là 5')\n"
   ]
  },
  {
   "cell_type": "code",
   "execution_count": 30,
   "id": "c3e3d676",
   "metadata": {},
   "outputs": [
    {
     "name": "stdout",
     "output_type": "stream",
     "text": [
      "True\n"
     ]
    }
   ],
   "source": [
    "n=int(input('nhập một số nguyên n : '))\n",
    "if n%3==0 and n%5==0:\n",
    "    print('True')\n",
    "else:\n",
    "    print('False')"
   ]
  },
  {
   "cell_type": "code",
   "execution_count": null,
   "id": "90c76096",
   "metadata": {},
   "outputs": [],
   "source": [
    "tuoi=int(input('nhập năm sinh của bạn '))\n",
    "if 2025-tuoi>=18:\n",
    "    print('đủ tuổi đi bầu cử')\n",
    "else:\n",
    "    print('chưa đủ tuổi đi bàu cử')"
   ]
  },
  {
   "cell_type": "code",
   "execution_count": 32,
   "id": "b9b318fa",
   "metadata": {},
   "outputs": [
    {
     "name": "stdout",
     "output_type": "stream",
     "text": [
      "hai số bằng nhau\n"
     ]
    }
   ],
   "source": [
    "n=float(input('nhập một số nguyên n : '))\n",
    "m=float(input('nhập một số nguyên n : '))\n",
    "if n>m:\n",
    "    print(n)\n",
    "elif n==m:\n",
    "    print('hai số bằng nhau')\n",
    "else:\n",
    "    print(m)"
   ]
  },
  {
   "cell_type": "code",
   "execution_count": 44,
   "id": "ff78d804",
   "metadata": {},
   "outputs": [
    {
     "name": "stdout",
     "output_type": "stream",
     "text": [
      "đây là chữ số \n"
     ]
    }
   ],
   "source": [
    "kitu=input('nhập vào một ký tự')\n",
    "if ord(kitu)>=48 and ord(kitu)<=57:\n",
    "    print('đây là chữ số ')\n",
    "else:\n",
    "    print('đây là chữ cái')"
   ]
  },
  {
   "cell_type": "code",
   "execution_count": 48,
   "id": "950dacda",
   "metadata": {},
   "outputs": [
    {
     "name": "stdout",
     "output_type": "stream",
     "text": [
      "học sinh giỏi\n"
     ]
    }
   ],
   "source": [
    "n=float(input('nhập một số  n : '))\n",
    "if n>=8:\n",
    "    print('học sinh giỏi')\n",
    "elif 6.5<=n<8:\n",
    "    print('học sinh khá')\n",
    "elif 5<=n<6.5:\n",
    "    print('học sinh trung bình')\n",
    "else:\n",
    "    print('học sinh yếu ')\n",
    "    "
   ]
  },
  {
   "cell_type": "code",
   "execution_count": null,
   "id": "acfaec7f",
   "metadata": {},
   "outputs": [],
   "source": [
    "year=int(input('nhập năm'))\n",
    "if year%400==0 or (year%4==0 and year%100!=0):\n",
    "    print('năm này năm nhuận')\n",
    "else;\n",
    "    print('năm này không phải năm nhuận')\n",
    "    "
   ]
  },
  {
   "cell_type": "code",
   "execution_count": null,
   "id": "fc04b8b9",
   "metadata": {},
   "outputs": [
    {
     "name": "stdout",
     "output_type": "stream",
     "text": [
      "Không\n"
     ]
    }
   ],
   "source": [
    "n = int(input(\"Nhập số nguyên từ 0 đến 9: \"))\n",
    "match n:\n",
    "    case 0:\n",
    "        print(\"Không\")\n",
    "    case 1:\n",
    "        print(\"Một\")\n",
    "    case 2:\n",
    "        print(\"Hai\")\n",
    "    case 3:\n",
    "        print(\"Ba\")\n",
    "    case 4:\n",
    "        print(\"Bốn\")\n",
    "    case 5:\n",
    "        print(\"Năm\")\n",
    "    case 6:\n",
    "        print(\"Sáu\")\n",
    " case 7:\n",
    "        print(\"Bảy\")\n",
    "    case 8:\n",
    "        print(\"Tám\")\n",
    "    case 9:\n",
    "        print(\"Chín\")\n",
    "    case _:\n",
    "        print(\"Ngoài phạm vi 0-9!\")\n"
   ]
  },
  {
   "cell_type": "code",
   "execution_count": null,
   "id": "7e8fd0ac",
   "metadata": {},
   "outputs": [],
   "source": [
    "n=input('nhập số điểm')\n",
    "if float(n)>=4:\n",
    "    print('qua môn')\n",
    "else:\n",
    "    print('thi lại')"
   ]
  },
  {
   "cell_type": "code",
   "execution_count": null,
   "id": "9b2f0bba",
   "metadata": {},
   "outputs": [],
   "source": [
    "tuoi=int(input('nhập năm sinh của bạn '))\n",
    "if 2025-tuoi>=18:\n",
    "    print('đã đủ 18 tuổi')\n",
    "else:\n",
    "    print('chưa đủ 18 tuổi')"
   ]
  }
 ],
 "metadata": {
  "kernelspec": {
   "display_name": "Python 3",
   "language": "python",
   "name": "python3"
  },
  "language_info": {
   "codemirror_mode": {
    "name": "ipython",
    "version": 3
   },
   "file_extension": ".py",
   "mimetype": "text/x-python",
   "name": "python",
   "nbconvert_exporter": "python",
   "pygments_lexer": "ipython3",
   "version": "3.13.7"
  }
 },
 "nbformat": 4,
 "nbformat_minor": 5
}
