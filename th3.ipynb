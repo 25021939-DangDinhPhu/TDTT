{
 "cells": [
  {
   "cell_type": "code",
   "execution_count": 5,
   "id": "8ee9856f",
   "metadata": {},
   "outputs": [
    {
     "name": "stdout",
     "output_type": "stream",
     "text": [
      "Các chữ số đảo ngược: 5 4 3 2 1\n"
     ]
    }
   ],
   "source": [
    "n = int(input(\"Nhập số nguyên n: \"))\n",
    "n_abs = abs(n)\n",
    "chuoi_dao = str(n_abs)[::-1]\n",
    "print(\"Các chữ số đảo ngược:\", ' '.join(chuoi_dao))\n"
   ]
  },
  {
   "cell_type": "code",
   "execution_count": null,
   "id": "68563086",
   "metadata": {},
   "outputs": [],
   "source": [
    "a = int(input(\"Nhập số a: \"))\n",
    "b = int(input(\"Nhập số b: \"))\n",
    "print(f\"Trước khi hoán đổi: a = {a}, b = {b}\")\n",
    "a = a ^ b\n",
    "b = a ^ b\n",
    "a = a ^ b\n",
    "print(f\"Sau khi hoán đổi: a = {a}, b = {b}\")\n"
   ]
  },
  {
   "cell_type": "code",
   "execution_count": 4,
   "id": "a74ea1bc",
   "metadata": {},
   "outputs": [
    {
     "name": "stdout",
     "output_type": "stream",
     "text": [
      "4 là lũy thừa của 2\n"
     ]
    }
   ],
   "source": [
    "n=int(input('nhập số nguyên n: '))\n",
    "if n>0 and n&(n-1)==0:\n",
    "    print(str(n)+' là lũy thừa của 2')\n",
    "else:\n",
    "    print(str(n)+' không là lũy thừa của 2')\n"
   ]
  },
  {
   "cell_type": "code",
   "execution_count": 3,
   "id": "ddd243f8",
   "metadata": {},
   "outputs": [
    {
     "name": "stdout",
     "output_type": "stream",
     "text": [
      "Kết quả m chia cho n làm tròn xuống là: 0\n"
     ]
    }
   ],
   "source": [
    "m = int(input(\"Nhập số m: \"))\n",
    "n = int(input(\"Nhập số n: \"))\n",
    "if n == 0:\n",
    "    print(\"Không thể chia cho 0!\")\n",
    "else:\n",
    "    ket_qua = m // n \n",
    "    print(\"Kết quả m chia cho n làm tròn xuống là:\",ket_qua)\n"
   ]
  },
  {
   "cell_type": "code",
   "execution_count": 2,
   "id": "9d89a0ec",
   "metadata": {},
   "outputs": [
    {
     "name": "stdout",
     "output_type": "stream",
     "text": [
      "Kết quả m chia cho n (làm tròn lên) 1\n"
     ]
    }
   ],
   "source": [
    "\n",
    "m = float(input(\"Nhập số m: \"))\n",
    "n = float(input(\"Nhập số n: \"))\n",
    "if n == 0:\n",
    "    print(\"Không thể chia cho 0!\")\n",
    "else:\n",
    "    ket_qua =round(m/n)\n",
    "    print(\"Kết quả m chia cho n (làm tròn lên)\",ket_qua)\n"
   ]
  },
  {
   "cell_type": "code",
   "execution_count": null,
   "id": "539f1437",
   "metadata": {},
   "outputs": [],
   "source": [
    "n=int(input('nhập một số nguyên n : '))\n",
    "if n%2==0:\n",
    "    print('Even')\n",
    "else:\n",
    "    print('Odd')"
   ]
  },
  {
   "cell_type": "code",
   "execution_count": null,
   "id": "ee1caaed",
   "metadata": {},
   "outputs": [],
   "source": [
    "a=int(input('nhập một số nguyên a : '))\n",
    "b=int(input('nhập một số nguyên b : '))\n",
    "if a<0 and b<0:\n",
    "    print('yes')\n",
    "else:\n",
    "    print('no')"
   ]
  },
  {
   "cell_type": "code",
   "execution_count": 6,
   "id": "3977b6a4",
   "metadata": {},
   "outputs": [
    {
     "name": "stdout",
     "output_type": "stream",
     "text": [
      "False\n"
     ]
    }
   ],
   "source": [
    "chuoi_a=input('nhập chuỗi a ')\n",
    "chuoi_b=input('nhập chuỗi b ')\n",
    "if len(chuoi_a)>len(chuoi_b):\n",
    "    print('True')\n",
    "else:\n",
    "    print('False')\n",
    "    "
   ]
  },
  {
   "cell_type": "code",
   "execution_count": null,
   "id": "0a4fc166",
   "metadata": {},
   "outputs": [],
   "source": []
  },
  {
   "cell_type": "code",
   "execution_count": null,
   "id": "a295f140",
   "metadata": {},
   "outputs": [],
   "source": [
    "a=int(input('nhập cạnh a : '))\n",
    "b=int(input('nhập cạnh b : '))\n",
    "c=int(input('nhập cạnh c : '))\n",
    "if a+b>c and a+c>b and b+c>a:\n",
    "    print('yes')\n",
    "else:\n",
    "    print('no')\n",
    "    "
   ]
  },
  {
   "cell_type": "code",
   "execution_count": 8,
   "id": "e5059563",
   "metadata": {},
   "outputs": [
    {
     "name": "stdout",
     "output_type": "stream",
     "text": [
      "4\n"
     ]
    }
   ],
   "source": [
    "a=int(input('nhập số nguyên a '))\n",
    "b=int(input('nhập số nguyên b '))\n",
    "c=int(input('nhập số nguyên c '))\n",
    "d=int(input('nhập số nguyên d '))\n",
    "print(max(a,b,c,d))"
   ]
  },
  {
   "cell_type": "code",
   "execution_count": 9,
   "id": "f09b7c09",
   "metadata": {},
   "outputs": [
    {
     "name": "stdout",
     "output_type": "stream",
     "text": [
      "tam giác vuông\n"
     ]
    }
   ],
   "source": [
    "a=int(input('nhập cạnh a : '))\n",
    "b=int(input('nhập cạnh b : '))\n",
    "c=int(input('nhập cạnh c : '))\n",
    "if a+b>c and a+c>b and b+c>a:\n",
    "    if a==b!=c or a==c!=b or b==c!=a:\n",
    "        print('tam giác cân')\n",
    "    elif  a==b==c:\n",
    "        print('tâm giác đều')\n",
    "    elif  a**2+b**2==c**2 or a**2+c**2==b**2 or b**2+c**2==a**2:\n",
    "        print('tam giác vuông')\n",
    "    else:\n",
    "        print('tam giác thường')\n",
    "else:\n",
    "    print('không phải tam giác ')\n"
   ]
  },
  {
   "cell_type": "code",
   "execution_count": null,
   "id": "e53d355b",
   "metadata": {},
   "outputs": [],
   "source": [
    "year=int(input('nhập năm'))\n",
    "if year%400==0 or (year%4==0 and year%100!=0):\n",
    "    print('năm này năm nhuận')\n",
    "else;\n",
    "    print('năm này không phải năm nhuận')"
   ]
  },
  {
   "cell_type": "code",
   "execution_count": null,
   "id": "255e9e1f",
   "metadata": {},
   "outputs": [],
   "source": [
    "sodien=int(input('nhập số điện'))\n",
    "if sodien<=50:\n",
    "    print('số tiền điện phải trả là : ',sodien*1500,'đồng')\n",
    "elif sodien<=100:\n",
    "    print('số tiền điện phải trả là : ',sodien*2000,'đồng')\n",
    "else:\n",
    "    print('số tiền điện phải trả là : ',sodien*3000,'đồng')\n",
    "    \n"
   ]
  },
  {
   "cell_type": "code",
   "execution_count": null,
   "id": "a09f228b",
   "metadata": {},
   "outputs": [],
   "source": []
  },
  {
   "cell_type": "code",
   "execution_count": null,
   "id": "9fe4cb31",
   "metadata": {},
   "outputs": [],
   "source": [
    "a=float(input('nhập số thực a '))\n",
    "b=float(input('nhập số thực b '))\n",
    "if a==0 and b!=0:\n",
    "    print('phương trình vô nhiệm')\n",
    "elif a==0 and b==0:\n",
    "    print('phương trình vô số nhiệm')\n",
    "else:\n",
    "    print('nhiệm của pt trình là ',-b/a)"
   ]
  },
  {
   "cell_type": "code",
   "execution_count": null,
   "id": "55df441c",
   "metadata": {},
   "outputs": [],
   "source": [
    "n=float(input('nhập một số  n : '))\n",
    "if n>=8:\n",
    "    print('học sinh giỏi')\n",
    "elif 6.5<=n<8:\n",
    "    print('học sinh khá')\n",
    "elif 5<=n<6.5:\n",
    "    print('học sinh trung bình')\n",
    "else:\n",
    "    print('học sinh yếu ')"
   ]
  },
  {
   "cell_type": "code",
   "execution_count": null,
   "id": "65833f6c",
   "metadata": {},
   "outputs": [
    {
     "name": "stdout",
     "output_type": "stream",
     "text": [
      "-4 -6 -6\n"
     ]
    }
   ],
   "source": [
    "n=float(input('nhập một số  n : '))\n",
    "if n>=0:\n",
    "    print(int(n+1),int(n),int(n+0.5))\n",
    "else:\n",
    "    print(int(n),int(n-1),int(n-1))\n",
    "\n",
    "\n",
    "\n"
   ]
  }
 ],
 "metadata": {
  "kernelspec": {
   "display_name": "Python 3",
   "language": "python",
   "name": "python3"
  },
  "language_info": {
   "codemirror_mode": {
    "name": "ipython",
    "version": 3
   },
   "file_extension": ".py",
   "mimetype": "text/x-python",
   "name": "python",
   "nbconvert_exporter": "python",
   "pygments_lexer": "ipython3",
   "version": "3.13.7"
  }
 },
 "nbformat": 4,
 "nbformat_minor": 5
}
